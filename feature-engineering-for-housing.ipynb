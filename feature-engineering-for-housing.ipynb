{
 "cells": [
  {
   "cell_type": "markdown",
   "id": "3f202907",
   "metadata": {
    "papermill": {
     "duration": 0.006267,
     "end_time": "2024-02-27T20:38:38.497091",
     "exception": false,
     "start_time": "2024-02-27T20:38:38.490824",
     "status": "completed"
    },
    "tags": []
   },
   "source": [
    "Feature Engineering specific steps\n",
    "1. Normalizing the features\n",
    "2. More intentional data imputation\n",
    "3. Creating aggregate features + dropping irrelevant ones"
   ]
  },
  {
   "cell_type": "code",
   "execution_count": 1,
   "id": "f4a61638",
   "metadata": {
    "_cell_guid": "b1076dfc-b9ad-4769-8c92-a6c4dae69d19",
    "_uuid": "8f2839f25d086af736a60e9eeb907d3b93b6e0e5",
    "execution": {
     "iopub.execute_input": "2024-02-27T20:38:38.510751Z",
     "iopub.status.busy": "2024-02-27T20:38:38.510140Z",
     "iopub.status.idle": "2024-02-27T20:38:40.548328Z",
     "shell.execute_reply": "2024-02-27T20:38:40.547485Z"
    },
    "papermill": {
     "duration": 2.047712,
     "end_time": "2024-02-27T20:38:40.550525",
     "exception": false,
     "start_time": "2024-02-27T20:38:38.502813",
     "status": "completed"
    },
    "tags": []
   },
   "outputs": [],
   "source": [
    "# This Python 3 environment comes with many helpful analytics libraries installed\n",
    "# It is defined by the kaggle/python Docker image: https://github.com/kaggle/docker-python\n",
    "# For example, here's several helpful packages to load\n",
    "\n",
    "import numpy as np # linear algebra\n",
    "import pandas as pd # data processing, CSV file I/O (e.g. pd.read_csv)\n",
    "import matplotlib.pyplot as plt\n",
    "import seaborn as sns\n",
    "import scipy.stats as stats\n",
    "\n",
    "# Input data files are available in the read-only \"../input/\" directory\n",
    "# For example, running this (by clicking run or pressing Shift+Enter) will list all files under the input directory\n",
    "\n",
    "import os\n",
    "# for dirname, _, filenames in os.walk('/kaggle/input'):\n",
    "#     for filename in filenames:\n",
    "#         print(os.path.join(dirname, filename))\n",
    "\n",
    "# You can write up to 20GB to the current directory (/kaggle/working/) that gets preserved as output when you create a version using \"Save & Run All\" \n",
    "# You can also write temporary files to /kaggle/temp/, but they won't be saved outside of the current session"
   ]
  },
  {
   "cell_type": "code",
   "execution_count": 2,
   "id": "1b943af9",
   "metadata": {
    "execution": {
     "iopub.execute_input": "2024-02-27T20:38:40.563847Z",
     "iopub.status.busy": "2024-02-27T20:38:40.563091Z",
     "iopub.status.idle": "2024-02-27T20:38:40.635392Z",
     "shell.execute_reply": "2024-02-27T20:38:40.634031Z"
    },
    "papermill": {
     "duration": 0.081596,
     "end_time": "2024-02-27T20:38:40.637979",
     "exception": false,
     "start_time": "2024-02-27T20:38:40.556383",
     "status": "completed"
    },
    "tags": []
   },
   "outputs": [
    {
     "data": {
      "text/html": [
       "<div>\n",
       "<style scoped>\n",
       "    .dataframe tbody tr th:only-of-type {\n",
       "        vertical-align: middle;\n",
       "    }\n",
       "\n",
       "    .dataframe tbody tr th {\n",
       "        vertical-align: top;\n",
       "    }\n",
       "\n",
       "    .dataframe thead th {\n",
       "        text-align: right;\n",
       "    }\n",
       "</style>\n",
       "<table border=\"1\" class=\"dataframe\">\n",
       "  <thead>\n",
       "    <tr style=\"text-align: right;\">\n",
       "      <th></th>\n",
       "      <th>MSSubClass</th>\n",
       "      <th>MSZoning</th>\n",
       "      <th>LotFrontage</th>\n",
       "      <th>LotArea</th>\n",
       "      <th>Street</th>\n",
       "      <th>Alley</th>\n",
       "      <th>LotShape</th>\n",
       "      <th>LandContour</th>\n",
       "      <th>Utilities</th>\n",
       "      <th>LotConfig</th>\n",
       "      <th>...</th>\n",
       "      <th>PoolArea</th>\n",
       "      <th>PoolQC</th>\n",
       "      <th>Fence</th>\n",
       "      <th>MiscFeature</th>\n",
       "      <th>MiscVal</th>\n",
       "      <th>MoSold</th>\n",
       "      <th>YrSold</th>\n",
       "      <th>SaleType</th>\n",
       "      <th>SaleCondition</th>\n",
       "      <th>SalePrice</th>\n",
       "    </tr>\n",
       "    <tr>\n",
       "      <th>Id</th>\n",
       "      <th></th>\n",
       "      <th></th>\n",
       "      <th></th>\n",
       "      <th></th>\n",
       "      <th></th>\n",
       "      <th></th>\n",
       "      <th></th>\n",
       "      <th></th>\n",
       "      <th></th>\n",
       "      <th></th>\n",
       "      <th></th>\n",
       "      <th></th>\n",
       "      <th></th>\n",
       "      <th></th>\n",
       "      <th></th>\n",
       "      <th></th>\n",
       "      <th></th>\n",
       "      <th></th>\n",
       "      <th></th>\n",
       "      <th></th>\n",
       "      <th></th>\n",
       "    </tr>\n",
       "  </thead>\n",
       "  <tbody>\n",
       "    <tr>\n",
       "      <th>1</th>\n",
       "      <td>60</td>\n",
       "      <td>RL</td>\n",
       "      <td>65.0</td>\n",
       "      <td>8450</td>\n",
       "      <td>Pave</td>\n",
       "      <td>NaN</td>\n",
       "      <td>Reg</td>\n",
       "      <td>Lvl</td>\n",
       "      <td>AllPub</td>\n",
       "      <td>Inside</td>\n",
       "      <td>...</td>\n",
       "      <td>0</td>\n",
       "      <td>NaN</td>\n",
       "      <td>NaN</td>\n",
       "      <td>NaN</td>\n",
       "      <td>0</td>\n",
       "      <td>2</td>\n",
       "      <td>2008</td>\n",
       "      <td>WD</td>\n",
       "      <td>Normal</td>\n",
       "      <td>208500</td>\n",
       "    </tr>\n",
       "    <tr>\n",
       "      <th>2</th>\n",
       "      <td>20</td>\n",
       "      <td>RL</td>\n",
       "      <td>80.0</td>\n",
       "      <td>9600</td>\n",
       "      <td>Pave</td>\n",
       "      <td>NaN</td>\n",
       "      <td>Reg</td>\n",
       "      <td>Lvl</td>\n",
       "      <td>AllPub</td>\n",
       "      <td>FR2</td>\n",
       "      <td>...</td>\n",
       "      <td>0</td>\n",
       "      <td>NaN</td>\n",
       "      <td>NaN</td>\n",
       "      <td>NaN</td>\n",
       "      <td>0</td>\n",
       "      <td>5</td>\n",
       "      <td>2007</td>\n",
       "      <td>WD</td>\n",
       "      <td>Normal</td>\n",
       "      <td>181500</td>\n",
       "    </tr>\n",
       "    <tr>\n",
       "      <th>3</th>\n",
       "      <td>60</td>\n",
       "      <td>RL</td>\n",
       "      <td>68.0</td>\n",
       "      <td>11250</td>\n",
       "      <td>Pave</td>\n",
       "      <td>NaN</td>\n",
       "      <td>IR1</td>\n",
       "      <td>Lvl</td>\n",
       "      <td>AllPub</td>\n",
       "      <td>Inside</td>\n",
       "      <td>...</td>\n",
       "      <td>0</td>\n",
       "      <td>NaN</td>\n",
       "      <td>NaN</td>\n",
       "      <td>NaN</td>\n",
       "      <td>0</td>\n",
       "      <td>9</td>\n",
       "      <td>2008</td>\n",
       "      <td>WD</td>\n",
       "      <td>Normal</td>\n",
       "      <td>223500</td>\n",
       "    </tr>\n",
       "    <tr>\n",
       "      <th>4</th>\n",
       "      <td>70</td>\n",
       "      <td>RL</td>\n",
       "      <td>60.0</td>\n",
       "      <td>9550</td>\n",
       "      <td>Pave</td>\n",
       "      <td>NaN</td>\n",
       "      <td>IR1</td>\n",
       "      <td>Lvl</td>\n",
       "      <td>AllPub</td>\n",
       "      <td>Corner</td>\n",
       "      <td>...</td>\n",
       "      <td>0</td>\n",
       "      <td>NaN</td>\n",
       "      <td>NaN</td>\n",
       "      <td>NaN</td>\n",
       "      <td>0</td>\n",
       "      <td>2</td>\n",
       "      <td>2006</td>\n",
       "      <td>WD</td>\n",
       "      <td>Abnorml</td>\n",
       "      <td>140000</td>\n",
       "    </tr>\n",
       "    <tr>\n",
       "      <th>5</th>\n",
       "      <td>60</td>\n",
       "      <td>RL</td>\n",
       "      <td>84.0</td>\n",
       "      <td>14260</td>\n",
       "      <td>Pave</td>\n",
       "      <td>NaN</td>\n",
       "      <td>IR1</td>\n",
       "      <td>Lvl</td>\n",
       "      <td>AllPub</td>\n",
       "      <td>FR2</td>\n",
       "      <td>...</td>\n",
       "      <td>0</td>\n",
       "      <td>NaN</td>\n",
       "      <td>NaN</td>\n",
       "      <td>NaN</td>\n",
       "      <td>0</td>\n",
       "      <td>12</td>\n",
       "      <td>2008</td>\n",
       "      <td>WD</td>\n",
       "      <td>Normal</td>\n",
       "      <td>250000</td>\n",
       "    </tr>\n",
       "  </tbody>\n",
       "</table>\n",
       "<p>5 rows × 80 columns</p>\n",
       "</div>"
      ],
      "text/plain": [
       "    MSSubClass MSZoning  LotFrontage  LotArea Street Alley LotShape  \\\n",
       "Id                                                                    \n",
       "1           60       RL         65.0     8450   Pave   NaN      Reg   \n",
       "2           20       RL         80.0     9600   Pave   NaN      Reg   \n",
       "3           60       RL         68.0    11250   Pave   NaN      IR1   \n",
       "4           70       RL         60.0     9550   Pave   NaN      IR1   \n",
       "5           60       RL         84.0    14260   Pave   NaN      IR1   \n",
       "\n",
       "   LandContour Utilities LotConfig  ... PoolArea PoolQC Fence MiscFeature  \\\n",
       "Id                                  ...                                     \n",
       "1          Lvl    AllPub    Inside  ...        0    NaN   NaN         NaN   \n",
       "2          Lvl    AllPub       FR2  ...        0    NaN   NaN         NaN   \n",
       "3          Lvl    AllPub    Inside  ...        0    NaN   NaN         NaN   \n",
       "4          Lvl    AllPub    Corner  ...        0    NaN   NaN         NaN   \n",
       "5          Lvl    AllPub       FR2  ...        0    NaN   NaN         NaN   \n",
       "\n",
       "   MiscVal MoSold  YrSold  SaleType  SaleCondition  SalePrice  \n",
       "Id                                                             \n",
       "1        0      2    2008        WD         Normal     208500  \n",
       "2        0      5    2007        WD         Normal     181500  \n",
       "3        0      9    2008        WD         Normal     223500  \n",
       "4        0      2    2006        WD        Abnorml     140000  \n",
       "5        0     12    2008        WD         Normal     250000  \n",
       "\n",
       "[5 rows x 80 columns]"
      ]
     },
     "execution_count": 2,
     "metadata": {},
     "output_type": "execute_result"
    }
   ],
   "source": [
    "df = pd.read_csv('../input/house-prices-advanced-regression-techniques/train.csv', index_col = [0])\n",
    "df.head()"
   ]
  },
  {
   "cell_type": "markdown",
   "id": "fc8b0dc5",
   "metadata": {
    "papermill": {
     "duration": 0.005706,
     "end_time": "2024-02-27T20:38:40.649868",
     "exception": false,
     "start_time": "2024-02-27T20:38:40.644162",
     "status": "completed"
    },
    "tags": []
   },
   "source": [
    "# step 1: data exploration"
   ]
  },
  {
   "cell_type": "code",
   "execution_count": 3,
   "id": "1782609a",
   "metadata": {
    "execution": {
     "iopub.execute_input": "2024-02-27T20:38:40.663659Z",
     "iopub.status.busy": "2024-02-27T20:38:40.663317Z",
     "iopub.status.idle": "2024-02-27T20:38:40.669459Z",
     "shell.execute_reply": "2024-02-27T20:38:40.668342Z"
    },
    "papermill": {
     "duration": 0.015725,
     "end_time": "2024-02-27T20:38:40.671689",
     "exception": false,
     "start_time": "2024-02-27T20:38:40.655964",
     "status": "completed"
    },
    "tags": []
   },
   "outputs": [],
   "source": [
    "numerical_data = df.select_dtypes(include=['int64','float64']).drop('SalePrice', axis=1)\n",
    "# numerical_data.describe()\n",
    "# note that MSSubClass is supposed to be a category but its written as a num here, change later"
   ]
  },
  {
   "cell_type": "code",
   "execution_count": 4,
   "id": "eb963cde",
   "metadata": {
    "execution": {
     "iopub.execute_input": "2024-02-27T20:38:40.685379Z",
     "iopub.status.busy": "2024-02-27T20:38:40.684684Z",
     "iopub.status.idle": "2024-02-27T20:38:40.689656Z",
     "shell.execute_reply": "2024-02-27T20:38:40.688633Z"
    },
    "papermill": {
     "duration": 0.013678,
     "end_time": "2024-02-27T20:38:40.691358",
     "exception": false,
     "start_time": "2024-02-27T20:38:40.677680",
     "status": "completed"
    },
    "tags": []
   },
   "outputs": [],
   "source": [
    "categorical_data = df.select_dtypes(include='object')\n",
    "# categorical_data.describe()"
   ]
  },
  {
   "cell_type": "markdown",
   "id": "9adc4f41",
   "metadata": {
    "papermill": {
     "duration": 0.005392,
     "end_time": "2024-02-27T20:38:40.702282",
     "exception": false,
     "start_time": "2024-02-27T20:38:40.696890",
     "status": "completed"
    },
    "tags": []
   },
   "source": [
    "### numerical data\n"
   ]
  },
  {
   "cell_type": "markdown",
   "id": "5243a336",
   "metadata": {
    "papermill": {
     "duration": 0.005236,
     "end_time": "2024-02-27T20:38:40.712990",
     "exception": false,
     "start_time": "2024-02-27T20:38:40.707754",
     "status": "completed"
    },
    "tags": []
   },
   "source": [
    "#### observations\n",
    "- noticing some linear relationships in like 2ndFlrSF, GarageArea\n",
    "- GrLivArea, TotalBsmtSF, 1stFlrSF also have stronger regression lines BUT the residuals wouldn't be even so not a proper linear relationship\n",
    "    - basically the size related ones of pretty \"common sense\" major areas of the house\n",
    "- there seems to be an outlier with a very low sale price but high SF in a few graphs, not sure if its the same point or different ones though\n",
    "- open porch and 1st floor SF just look like they are fanning out for now but could potentially mean interations with other values creating like one line with a steeper slope and another with a flatter one? just a thought to explore\n",
    "    \n",
    "**reminder to not forget that many of these hold a lot of 0 values worth reincoporating/investigating/dealing with separately later**"
   ]
  },
  {
   "cell_type": "markdown",
   "id": "a054da99",
   "metadata": {
    "papermill": {
     "duration": 0.005156,
     "end_time": "2024-02-27T20:38:40.723605",
     "exception": false,
     "start_time": "2024-02-27T20:38:40.718449",
     "status": "completed"
    },
    "tags": []
   },
   "source": [
    "### observations\n",
    "- MSSubClass, OverallCond, OverallQual are more-so ordinal categorical data hidden as numerical values\n",
    "- many of the other low std values are simply discrete counts like number of bathrooms, rooms, kitchens etc.\n",
    "- very few pool data points as we saw when checking nulls, could be better to remove/make binary again\n",
    "- month and year are very un-promising for now, can't think of any reason why it would matter later yet either for now\n",
    "- overall quality + total rooms above ground seem to have more of a correlation with price which also checks out logically\n",
    "- random note: later when dealing with the model, check the normality of these quantative variables too"
   ]
  },
  {
   "cell_type": "markdown",
   "id": "f347d402",
   "metadata": {
    "papermill": {
     "duration": 0.005515,
     "end_time": "2024-02-27T20:38:40.734589",
     "exception": false,
     "start_time": "2024-02-27T20:38:40.729074",
     "status": "completed"
    },
    "tags": []
   },
   "source": [
    "# imputing"
   ]
  },
  {
   "cell_type": "code",
   "execution_count": 5,
   "id": "b5888976",
   "metadata": {
    "execution": {
     "iopub.execute_input": "2024-02-27T20:38:40.748106Z",
     "iopub.status.busy": "2024-02-27T20:38:40.747423Z",
     "iopub.status.idle": "2024-02-27T20:38:41.114592Z",
     "shell.execute_reply": "2024-02-27T20:38:41.113441Z"
    },
    "papermill": {
     "duration": 0.376998,
     "end_time": "2024-02-27T20:38:41.117143",
     "exception": false,
     "start_time": "2024-02-27T20:38:40.740145",
     "status": "completed"
    },
    "tags": []
   },
   "outputs": [],
   "source": [
    "from sklearn.model_selection import train_test_split\n",
    "\n",
    "# i don't think the data has any null Prices but for future reference\n",
    "# it is good to remove rows with missing targets\n",
    "df.dropna(axis=0, subset=['SalePrice'], inplace=True)\n",
    "y = df.SalePrice\n",
    "X = df.drop('SalePrice', axis=1)\n",
    "\n",
    "X_train, X_valid, y_train, y_valid = train_test_split(X, y, train_size=0.8, test_size=0.2, random_state=0)"
   ]
  },
  {
   "cell_type": "code",
   "execution_count": 6,
   "id": "78e2603a",
   "metadata": {
    "execution": {
     "iopub.execute_input": "2024-02-27T20:38:41.131683Z",
     "iopub.status.busy": "2024-02-27T20:38:41.131286Z",
     "iopub.status.idle": "2024-02-27T20:38:41.506279Z",
     "shell.execute_reply": "2024-02-27T20:38:41.504905Z"
    },
    "papermill": {
     "duration": 0.385508,
     "end_time": "2024-02-27T20:38:41.508893",
     "exception": false,
     "start_time": "2024-02-27T20:38:41.123385",
     "status": "completed"
    },
    "tags": []
   },
   "outputs": [],
   "source": [
    "from sklearn.compose import ColumnTransformer\n",
    "from sklearn.pipeline import Pipeline\n",
    "from sklearn.impute import SimpleImputer\n",
    "from sklearn.preprocessing import StandardScaler, OneHotEncoder\n",
    "from xgboost import XGBRegressor\n",
    "\n",
    "# separate numerical and categorical transformers\n",
    "numerical_transformer = Pipeline(steps=[\n",
    "    ('imputer', SimpleImputer(strategy='mean')), \n",
    "#     ('imputer', SimpleImputer(strategy='constant')), \n",
    "    ('scaler', StandardScaler())\n",
    "])\n",
    "\n",
    "categorical_transformer = Pipeline(steps=[\n",
    "    ('imputer', SimpleImputer(strategy='most_frequent')),\n",
    "#     ('imputer', SimpleImputer(strategy='constant', fill_value=\"Missing\")),\n",
    "    ('onehot', OneHotEncoder(handle_unknown='ignore'))\n",
    "    # can try target encoding too from Feature Engineering course\n",
    "])\n",
    "\n",
    "numerical_cols = numerical_data.columns\n",
    "categorical_cols = categorical_data.columns\n",
    "\n",
    "# combining transformers\n",
    "preprocessor = ColumnTransformer(\n",
    "    transformers=[\n",
    "        ('num', numerical_transformer, numerical_cols),\n",
    "        ('cat', categorical_transformer, categorical_cols)\n",
    "])"
   ]
  },
  {
   "cell_type": "code",
   "execution_count": 7,
   "id": "37e7cb74",
   "metadata": {
    "execution": {
     "iopub.execute_input": "2024-02-27T20:38:41.522840Z",
     "iopub.status.busy": "2024-02-27T20:38:41.522461Z",
     "iopub.status.idle": "2024-02-27T20:38:41.527542Z",
     "shell.execute_reply": "2024-02-27T20:38:41.526511Z"
    },
    "papermill": {
     "duration": 0.014123,
     "end_time": "2024-02-27T20:38:41.529349",
     "exception": false,
     "start_time": "2024-02-27T20:38:41.515226",
     "status": "completed"
    },
    "tags": []
   },
   "outputs": [],
   "source": [
    "model_temp = XGBRegressor(n_estimators = 500, max_depth = 3, learning_rate = 0.1)\n",
    "pipeline = Pipeline(steps=[('preprocessor', preprocessor),\n",
    "                                 ('model', model_temp)])\n",
    "# pipeline.fit(X_train, y_train)"
   ]
  },
  {
   "cell_type": "code",
   "execution_count": 8,
   "id": "a7e86033",
   "metadata": {
    "execution": {
     "iopub.execute_input": "2024-02-27T20:38:41.545122Z",
     "iopub.status.busy": "2024-02-27T20:38:41.544209Z",
     "iopub.status.idle": "2024-02-27T20:38:42.342434Z",
     "shell.execute_reply": "2024-02-27T20:38:42.341371Z"
    },
    "papermill": {
     "duration": 0.809181,
     "end_time": "2024-02-27T20:38:42.344768",
     "exception": false,
     "start_time": "2024-02-27T20:38:41.535587",
     "status": "completed"
    },
    "tags": []
   },
   "outputs": [
    {
     "data": {
      "image/png": "[encoded data removed]",
      "text/plain": [
       "<Figure size 3000x1500 with 2 Axes>"
      ]
     },
     "metadata": {},
     "output_type": "display_data"
    }
   ],
   "source": [
    "# Calculate the correlation matrix\n",
    "numerical_data['SalePrice'] = y_train\n",
    "corr = numerical_data.corr()\n",
    "\n",
    "# Generate a mask for the upper triangle\n",
    "mask = np.triu(np.ones_like(corr, dtype=bool))\n",
    "\n",
    "# Set up the matplotlib figure\n",
    "plt.figure(figsize=(30, 15))\n",
    "\n",
    "# Generate a custom diverging colormap\n",
    "cmap = sns.diverging_palette(230, 20, as_cmap=True)\n",
    "\n",
    "# Draw the heatmap with the mask and correct aspect ratio\n",
    "sns.heatmap(corr, mask=mask, cmap=cmap, vmax=.3, center=0,\n",
    "            square=True, linewidths=.5, cbar_kws={\"shrink\": .5})\n",
    "\n",
    "plt.show()"
   ]
  },
  {
   "cell_type": "markdown",
   "id": "2ed03e3e",
   "metadata": {
    "papermill": {
     "duration": 0.007256,
     "end_time": "2024-02-27T20:38:42.359601",
     "exception": false,
     "start_time": "2024-02-27T20:38:42.352345",
     "status": "completed"
    },
    "tags": []
   },
   "source": [
    "### dropping low MI features leads to ___ results"
   ]
  },
  {
   "cell_type": "code",
   "execution_count": 9,
   "id": "5169d0ec",
   "metadata": {
    "execution": {
     "iopub.execute_input": "2024-02-27T20:38:42.377257Z",
     "iopub.status.busy": "2024-02-27T20:38:42.375947Z",
     "iopub.status.idle": "2024-02-27T20:38:42.382636Z",
     "shell.execute_reply": "2024-02-27T20:38:42.381284Z"
    },
    "papermill": {
     "duration": 0.017792,
     "end_time": "2024-02-27T20:38:42.385028",
     "exception": false,
     "start_time": "2024-02-27T20:38:42.367236",
     "status": "completed"
    },
    "tags": []
   },
   "outputs": [],
   "source": [
    "low_mi_cols = [\"MoSold\", \"MiscVal\", \"PoolArea\", \"LowQualFinSF\", \"BsmtHalfBath\", \"BsmtFinSF2\", \"YrSold\", \"KitchenAbvGr\", \"3SsnPorch\"]\n",
    "## ^^ found from other notebook\n",
    "\n",
    "def drop_cols(cols, df):\n",
    "    new_df = df.copy()\n",
    "    new_df = new_df.drop(cols, axis=1)\n",
    "    return new_df"
   ]
  },
  {
   "cell_type": "markdown",
   "id": "ffb62822",
   "metadata": {
    "papermill": {
     "duration": 0.007039,
     "end_time": "2024-02-27T20:38:42.399744",
     "exception": false,
     "start_time": "2024-02-27T20:38:42.392705",
     "status": "completed"
    },
    "tags": []
   },
   "source": [
    "# feature engineering"
   ]
  },
  {
   "cell_type": "code",
   "execution_count": 10,
   "id": "6fd96a1f",
   "metadata": {
    "execution": {
     "iopub.execute_input": "2024-02-27T20:38:42.416756Z",
     "iopub.status.busy": "2024-02-27T20:38:42.416434Z",
     "iopub.status.idle": "2024-02-27T20:38:42.426009Z",
     "shell.execute_reply": "2024-02-27T20:38:42.425330Z"
    },
    "papermill": {
     "duration": 0.020346,
     "end_time": "2024-02-27T20:38:42.427704",
     "exception": false,
     "start_time": "2024-02-27T20:38:42.407358",
     "status": "completed"
    },
    "tags": []
   },
   "outputs": [],
   "source": [
    "def fix_categorical(df):\n",
    "    df = df.replace({\"Alley\" : {\"Grvl\" : 1, \"Pave\" : 2},\n",
    "                 \"BsmtCond\" : {\"No\" : 0, \"Po\" : 1, \"Fa\" : 2, \"TA\" : 3, \"Gd\" : 4, \"Ex\" : 5},\n",
    "                 \"BsmtExposure\" : {\"No\" : 0, \"Mn\" : 1, \"Av\": 2, \"Gd\" : 3},\n",
    "                 \"BsmtFinType1\" : {\"No\" : 0, \"Unf\" : 1, \"LwQ\": 2, \"Rec\" : 3, \"BLQ\" : 4,\n",
    "                                         \"ALQ\" : 5, \"GLQ\" : 6},\n",
    "                 \"BsmtFinType2\" : {\"No\" : 0, \"Unf\" : 1, \"LwQ\": 2, \"Rec\" : 3, \"BLQ\" : 4,\n",
    "                                         \"ALQ\" : 5, \"GLQ\" : 6},\n",
    "                 \"BsmtQual\" : {\"No\" : 0, \"Po\" : 1, \"Fa\" : 2, \"TA\": 3, \"Gd\" : 4, \"Ex\" : 5},\n",
    "                 \"ExterCond\" : {\"Po\" : 1, \"Fa\" : 2, \"TA\": 3, \"Gd\": 4, \"Ex\" : 5},\n",
    "                       \"ExterQual\" : {\"Po\" : 1, \"Fa\" : 2, \"TA\": 3, \"Gd\": 4, \"Ex\" : 5},\n",
    "                       \"FireplaceQu\" : {\"No\" : 0, \"Po\" : 1, \"Fa\" : 2, \"TA\" : 3, \"Gd\" : 4, \"Ex\" : 5},\n",
    "                       \"Functional\" : {\"Sal\" : 1, \"Sev\" : 2, \"Maj2\" : 3, \"Maj1\" : 4, \"Mod\": 5,\n",
    "                                       \"Min2\" : 6, \"Min1\" : 7, \"Typ\" : 8},\n",
    "                       \"GarageCond\" : {\"No\" : 0, \"Po\" : 1, \"Fa\" : 2, \"TA\" : 3, \"Gd\" : 4, \"Ex\" : 5},\n",
    "                       \"GarageQual\" : {\"No\" : 0, \"Po\" : 1, \"Fa\" : 2, \"TA\" : 3, \"Gd\" : 4, \"Ex\" : 5},\n",
    "                       \"HeatingQC\" : {\"Po\" : 1, \"Fa\" : 2, \"TA\" : 3, \"Gd\" : 4, \"Ex\" : 5},\n",
    "                       \"KitchenQual\" : {\"Po\" : 1, \"Fa\" : 2, \"TA\" : 3, \"Gd\" : 4, \"Ex\" : 5},\n",
    "                       \"LandSlope\" : {\"Sev\" : 1, \"Mod\" : 2, \"Gtl\" : 3},\n",
    "                       \"LotShape\" : {\"IR3\" : 1, \"IR2\" : 2, \"IR1\" : 3, \"Reg\" : 4},\n",
    "                       \"PavedDrive\" : {\"N\" : 0, \"P\" : 1, \"Y\" : 2},\n",
    "                       \"PoolQC\" : {\"No\" : 0, \"Fa\" : 1, \"TA\" : 2, \"Gd\" : 3, \"Ex\" : 4},\n",
    "                       \"Street\" : {\"Grvl\" : 1, \"Pave\" : 2},\n",
    "                       \"Utilities\" : {\"ELO\" : 1, \"NoSeWa\" : 2, \"NoSewr\" : 3, \"AllPub\" : 4}}\n",
    "                     )\n",
    "    return df"
   ]
  },
  {
   "cell_type": "code",
   "execution_count": 11,
   "id": "414c78a0",
   "metadata": {
    "execution": {
     "iopub.execute_input": "2024-02-27T20:38:42.444348Z",
     "iopub.status.busy": "2024-02-27T20:38:42.443686Z",
     "iopub.status.idle": "2024-02-27T20:38:42.450794Z",
     "shell.execute_reply": "2024-02-27T20:38:42.450099Z"
    },
    "papermill": {
     "duration": 0.017938,
     "end_time": "2024-02-27T20:38:42.453070",
     "exception": false,
     "start_time": "2024-02-27T20:38:42.435132",
     "status": "completed"
    },
    "tags": []
   },
   "outputs": [],
   "source": [
    "def add_new_features(df):\n",
    "    df_copy = df.copy()\n",
    "    \n",
    "    df_copy['TotalArea'] = df['TotalBsmtSF'] + df['1stFlrSF'] + df['2ndFlrSF']\n",
    "    df_copy['TotalBathrooms'] = df['FullBath'] + 0.5*df['HalfBath'] + df['BsmtFullBath'] + 0.5*df['BsmtHalfBath']\n",
    "    df_copy['AgeAtSale'] = df['YrSold'] - df['YearBuilt']\n",
    "    df_copy['YearsSinceRemodel'] = df['YrSold'] - df['YearRemodAdd']\n",
    "    df_copy['TotalQual'] = df['OverallQual'] + df['ExterQual'] + df['KitchenQual'] + df['BsmtQual'] + df['GarageQual']\n",
    "    df_copy['TotalCond'] = df['OverallCond'] + df['ExterCond'] + df['BsmtCond'] + df['GarageCond']\n",
    "    df_copy['OutdoorSpace'] = df[['WoodDeckSF', 'OpenPorchSF', 'EnclosedPorch', '3SsnPorch', 'ScreenPorch']].sum(axis=1)\n",
    "    df_copy['HasPool'] = (df['PoolArea'] > 0).astype(int)\n",
    "    df_copy['HasGarage'] = (df['GarageArea'] > 0).astype(int)\n",
    "    df_copy['HasAlley'] = (df['Alley'] > 0).astype(int)\n",
    "    df_copy['LotFrontageAreaRatio'] = df['LotFrontage'] / df['LotArea']\n",
    "    \n",
    "    return df_copy\n",
    "\n",
    "# remove_these_cols = ['PoolArea', 'GarageArea', 'Alley']"
   ]
  },
  {
   "cell_type": "code",
   "execution_count": 12,
   "id": "9e089a79",
   "metadata": {
    "execution": {
     "iopub.execute_input": "2024-02-27T20:38:42.472234Z",
     "iopub.status.busy": "2024-02-27T20:38:42.471333Z",
     "iopub.status.idle": "2024-02-27T20:38:42.536353Z",
     "shell.execute_reply": "2024-02-27T20:38:42.535217Z"
    },
    "papermill": {
     "duration": 0.077841,
     "end_time": "2024-02-27T20:38:42.538507",
     "exception": false,
     "start_time": "2024-02-27T20:38:42.460666",
     "status": "completed"
    },
    "tags": []
   },
   "outputs": [],
   "source": [
    "def modify_features(df):\n",
    "    return drop_cols(low_mi_cols, add_new_features(fix_categorical(df)))\n",
    "\n",
    "new_X_train = modify_features(X_train)\n",
    "# new_X_train.head()\n",
    "new_X_valid = modify_features(X_valid)\n",
    "# new_X_valid"
   ]
  },
  {
   "cell_type": "markdown",
   "id": "cb603113",
   "metadata": {
    "papermill": {
     "duration": 0.007202,
     "end_time": "2024-02-27T20:38:42.553723",
     "exception": false,
     "start_time": "2024-02-27T20:38:42.546521",
     "status": "completed"
    },
    "tags": []
   },
   "source": [
    "# submissions"
   ]
  },
  {
   "cell_type": "code",
   "execution_count": 13,
   "id": "ef23bac1",
   "metadata": {
    "execution": {
     "iopub.execute_input": "2024-02-27T20:38:42.571226Z",
     "iopub.status.busy": "2024-02-27T20:38:42.570885Z",
     "iopub.status.idle": "2024-02-27T20:38:42.653685Z",
     "shell.execute_reply": "2024-02-27T20:38:42.652728Z"
    },
    "papermill": {
     "duration": 0.093546,
     "end_time": "2024-02-27T20:38:42.656235",
     "exception": false,
     "start_time": "2024-02-27T20:38:42.562689",
     "status": "completed"
    },
    "tags": []
   },
   "outputs": [
    {
     "data": {
      "text/html": [
       "<div>\n",
       "<style scoped>\n",
       "    .dataframe tbody tr th:only-of-type {\n",
       "        vertical-align: middle;\n",
       "    }\n",
       "\n",
       "    .dataframe tbody tr th {\n",
       "        vertical-align: top;\n",
       "    }\n",
       "\n",
       "    .dataframe thead th {\n",
       "        text-align: right;\n",
       "    }\n",
       "</style>\n",
       "<table border=\"1\" class=\"dataframe\">\n",
       "  <thead>\n",
       "    <tr style=\"text-align: right;\">\n",
       "      <th></th>\n",
       "      <th>MSSubClass</th>\n",
       "      <th>MSZoning</th>\n",
       "      <th>LotFrontage</th>\n",
       "      <th>LotArea</th>\n",
       "      <th>Street</th>\n",
       "      <th>Alley</th>\n",
       "      <th>LotShape</th>\n",
       "      <th>LandContour</th>\n",
       "      <th>Utilities</th>\n",
       "      <th>LotConfig</th>\n",
       "      <th>...</th>\n",
       "      <th>TotalBathrooms</th>\n",
       "      <th>AgeAtSale</th>\n",
       "      <th>YearsSinceRemodel</th>\n",
       "      <th>TotalQual</th>\n",
       "      <th>TotalCond</th>\n",
       "      <th>OutdoorSpace</th>\n",
       "      <th>HasPool</th>\n",
       "      <th>HasGarage</th>\n",
       "      <th>HasAlley</th>\n",
       "      <th>LotFrontageAreaRatio</th>\n",
       "    </tr>\n",
       "    <tr>\n",
       "      <th>Id</th>\n",
       "      <th></th>\n",
       "      <th></th>\n",
       "      <th></th>\n",
       "      <th></th>\n",
       "      <th></th>\n",
       "      <th></th>\n",
       "      <th></th>\n",
       "      <th></th>\n",
       "      <th></th>\n",
       "      <th></th>\n",
       "      <th></th>\n",
       "      <th></th>\n",
       "      <th></th>\n",
       "      <th></th>\n",
       "      <th></th>\n",
       "      <th></th>\n",
       "      <th></th>\n",
       "      <th></th>\n",
       "      <th></th>\n",
       "      <th></th>\n",
       "      <th></th>\n",
       "    </tr>\n",
       "  </thead>\n",
       "  <tbody>\n",
       "    <tr>\n",
       "      <th>1461</th>\n",
       "      <td>20</td>\n",
       "      <td>RH</td>\n",
       "      <td>80.0</td>\n",
       "      <td>11622</td>\n",
       "      <td>2</td>\n",
       "      <td>NaN</td>\n",
       "      <td>4</td>\n",
       "      <td>Lvl</td>\n",
       "      <td>4.0</td>\n",
       "      <td>Inside</td>\n",
       "      <td>...</td>\n",
       "      <td>1.0</td>\n",
       "      <td>49</td>\n",
       "      <td>49</td>\n",
       "      <td>17.0</td>\n",
       "      <td>15.0</td>\n",
       "      <td>260</td>\n",
       "      <td>0</td>\n",
       "      <td>1</td>\n",
       "      <td>0</td>\n",
       "      <td>0.006883</td>\n",
       "    </tr>\n",
       "    <tr>\n",
       "      <th>1462</th>\n",
       "      <td>20</td>\n",
       "      <td>RL</td>\n",
       "      <td>81.0</td>\n",
       "      <td>14267</td>\n",
       "      <td>2</td>\n",
       "      <td>NaN</td>\n",
       "      <td>3</td>\n",
       "      <td>Lvl</td>\n",
       "      <td>4.0</td>\n",
       "      <td>Corner</td>\n",
       "      <td>...</td>\n",
       "      <td>1.5</td>\n",
       "      <td>52</td>\n",
       "      <td>52</td>\n",
       "      <td>19.0</td>\n",
       "      <td>15.0</td>\n",
       "      <td>429</td>\n",
       "      <td>0</td>\n",
       "      <td>1</td>\n",
       "      <td>0</td>\n",
       "      <td>0.005677</td>\n",
       "    </tr>\n",
       "    <tr>\n",
       "      <th>1463</th>\n",
       "      <td>60</td>\n",
       "      <td>RL</td>\n",
       "      <td>74.0</td>\n",
       "      <td>13830</td>\n",
       "      <td>2</td>\n",
       "      <td>NaN</td>\n",
       "      <td>3</td>\n",
       "      <td>Lvl</td>\n",
       "      <td>4.0</td>\n",
       "      <td>Inside</td>\n",
       "      <td>...</td>\n",
       "      <td>2.5</td>\n",
       "      <td>13</td>\n",
       "      <td>12</td>\n",
       "      <td>18.0</td>\n",
       "      <td>14.0</td>\n",
       "      <td>246</td>\n",
       "      <td>0</td>\n",
       "      <td>1</td>\n",
       "      <td>0</td>\n",
       "      <td>0.005351</td>\n",
       "    </tr>\n",
       "    <tr>\n",
       "      <th>1464</th>\n",
       "      <td>60</td>\n",
       "      <td>RL</td>\n",
       "      <td>78.0</td>\n",
       "      <td>9978</td>\n",
       "      <td>2</td>\n",
       "      <td>NaN</td>\n",
       "      <td>3</td>\n",
       "      <td>Lvl</td>\n",
       "      <td>4.0</td>\n",
       "      <td>Inside</td>\n",
       "      <td>...</td>\n",
       "      <td>2.5</td>\n",
       "      <td>12</td>\n",
       "      <td>12</td>\n",
       "      <td>19.0</td>\n",
       "      <td>15.0</td>\n",
       "      <td>396</td>\n",
       "      <td>0</td>\n",
       "      <td>1</td>\n",
       "      <td>0</td>\n",
       "      <td>0.007817</td>\n",
       "    </tr>\n",
       "    <tr>\n",
       "      <th>1465</th>\n",
       "      <td>120</td>\n",
       "      <td>RL</td>\n",
       "      <td>43.0</td>\n",
       "      <td>5005</td>\n",
       "      <td>2</td>\n",
       "      <td>NaN</td>\n",
       "      <td>3</td>\n",
       "      <td>HLS</td>\n",
       "      <td>4.0</td>\n",
       "      <td>Inside</td>\n",
       "      <td>...</td>\n",
       "      <td>2.0</td>\n",
       "      <td>18</td>\n",
       "      <td>18</td>\n",
       "      <td>23.0</td>\n",
       "      <td>14.0</td>\n",
       "      <td>226</td>\n",
       "      <td>0</td>\n",
       "      <td>1</td>\n",
       "      <td>0</td>\n",
       "      <td>0.008591</td>\n",
       "    </tr>\n",
       "    <tr>\n",
       "      <th>...</th>\n",
       "      <td>...</td>\n",
       "      <td>...</td>\n",
       "      <td>...</td>\n",
       "      <td>...</td>\n",
       "      <td>...</td>\n",
       "      <td>...</td>\n",
       "      <td>...</td>\n",
       "      <td>...</td>\n",
       "      <td>...</td>\n",
       "      <td>...</td>\n",
       "      <td>...</td>\n",
       "      <td>...</td>\n",
       "      <td>...</td>\n",
       "      <td>...</td>\n",
       "      <td>...</td>\n",
       "      <td>...</td>\n",
       "      <td>...</td>\n",
       "      <td>...</td>\n",
       "      <td>...</td>\n",
       "      <td>...</td>\n",
       "      <td>...</td>\n",
       "    </tr>\n",
       "    <tr>\n",
       "      <th>2915</th>\n",
       "      <td>160</td>\n",
       "      <td>RM</td>\n",
       "      <td>21.0</td>\n",
       "      <td>1936</td>\n",
       "      <td>2</td>\n",
       "      <td>NaN</td>\n",
       "      <td>4</td>\n",
       "      <td>Lvl</td>\n",
       "      <td>4.0</td>\n",
       "      <td>Inside</td>\n",
       "      <td>...</td>\n",
       "      <td>1.5</td>\n",
       "      <td>36</td>\n",
       "      <td>36</td>\n",
       "      <td>NaN</td>\n",
       "      <td>NaN</td>\n",
       "      <td>0</td>\n",
       "      <td>0</td>\n",
       "      <td>0</td>\n",
       "      <td>0</td>\n",
       "      <td>0.010847</td>\n",
       "    </tr>\n",
       "    <tr>\n",
       "      <th>2916</th>\n",
       "      <td>160</td>\n",
       "      <td>RM</td>\n",
       "      <td>21.0</td>\n",
       "      <td>1894</td>\n",
       "      <td>2</td>\n",
       "      <td>NaN</td>\n",
       "      <td>4</td>\n",
       "      <td>Lvl</td>\n",
       "      <td>4.0</td>\n",
       "      <td>Inside</td>\n",
       "      <td>...</td>\n",
       "      <td>1.5</td>\n",
       "      <td>36</td>\n",
       "      <td>36</td>\n",
       "      <td>16.0</td>\n",
       "      <td>14.0</td>\n",
       "      <td>24</td>\n",
       "      <td>0</td>\n",
       "      <td>1</td>\n",
       "      <td>0</td>\n",
       "      <td>0.011088</td>\n",
       "    </tr>\n",
       "    <tr>\n",
       "      <th>2917</th>\n",
       "      <td>20</td>\n",
       "      <td>RL</td>\n",
       "      <td>160.0</td>\n",
       "      <td>20000</td>\n",
       "      <td>2</td>\n",
       "      <td>NaN</td>\n",
       "      <td>4</td>\n",
       "      <td>Lvl</td>\n",
       "      <td>4.0</td>\n",
       "      <td>Inside</td>\n",
       "      <td>...</td>\n",
       "      <td>2.0</td>\n",
       "      <td>46</td>\n",
       "      <td>10</td>\n",
       "      <td>17.0</td>\n",
       "      <td>16.0</td>\n",
       "      <td>474</td>\n",
       "      <td>0</td>\n",
       "      <td>1</td>\n",
       "      <td>0</td>\n",
       "      <td>0.008000</td>\n",
       "    </tr>\n",
       "    <tr>\n",
       "      <th>2918</th>\n",
       "      <td>85</td>\n",
       "      <td>RL</td>\n",
       "      <td>62.0</td>\n",
       "      <td>10441</td>\n",
       "      <td>2</td>\n",
       "      <td>NaN</td>\n",
       "      <td>4</td>\n",
       "      <td>Lvl</td>\n",
       "      <td>4.0</td>\n",
       "      <td>Inside</td>\n",
       "      <td>...</td>\n",
       "      <td>1.5</td>\n",
       "      <td>14</td>\n",
       "      <td>14</td>\n",
       "      <td>NaN</td>\n",
       "      <td>NaN</td>\n",
       "      <td>112</td>\n",
       "      <td>0</td>\n",
       "      <td>0</td>\n",
       "      <td>0</td>\n",
       "      <td>0.005938</td>\n",
       "    </tr>\n",
       "    <tr>\n",
       "      <th>2919</th>\n",
       "      <td>60</td>\n",
       "      <td>RL</td>\n",
       "      <td>74.0</td>\n",
       "      <td>9627</td>\n",
       "      <td>2</td>\n",
       "      <td>NaN</td>\n",
       "      <td>4</td>\n",
       "      <td>Lvl</td>\n",
       "      <td>4.0</td>\n",
       "      <td>Inside</td>\n",
       "      <td>...</td>\n",
       "      <td>2.5</td>\n",
       "      <td>13</td>\n",
       "      <td>12</td>\n",
       "      <td>20.0</td>\n",
       "      <td>14.0</td>\n",
       "      <td>238</td>\n",
       "      <td>0</td>\n",
       "      <td>1</td>\n",
       "      <td>0</td>\n",
       "      <td>0.007687</td>\n",
       "    </tr>\n",
       "  </tbody>\n",
       "</table>\n",
       "<p>1459 rows × 81 columns</p>\n",
       "</div>"
      ],
      "text/plain": [
       "      MSSubClass MSZoning  LotFrontage  LotArea  Street  Alley  LotShape  \\\n",
       "Id                                                                         \n",
       "1461          20       RH         80.0    11622       2    NaN         4   \n",
       "1462          20       RL         81.0    14267       2    NaN         3   \n",
       "1463          60       RL         74.0    13830       2    NaN         3   \n",
       "1464          60       RL         78.0     9978       2    NaN         3   \n",
       "1465         120       RL         43.0     5005       2    NaN         3   \n",
       "...          ...      ...          ...      ...     ...    ...       ...   \n",
       "2915         160       RM         21.0     1936       2    NaN         4   \n",
       "2916         160       RM         21.0     1894       2    NaN         4   \n",
       "2917          20       RL        160.0    20000       2    NaN         4   \n",
       "2918          85       RL         62.0    10441       2    NaN         4   \n",
       "2919          60       RL         74.0     9627       2    NaN         4   \n",
       "\n",
       "     LandContour  Utilities LotConfig  ...  TotalBathrooms AgeAtSale  \\\n",
       "Id                                     ...                             \n",
       "1461         Lvl        4.0    Inside  ...             1.0        49   \n",
       "1462         Lvl        4.0    Corner  ...             1.5        52   \n",
       "1463         Lvl        4.0    Inside  ...             2.5        13   \n",
       "1464         Lvl        4.0    Inside  ...             2.5        12   \n",
       "1465         HLS        4.0    Inside  ...             2.0        18   \n",
       "...          ...        ...       ...  ...             ...       ...   \n",
       "2915         Lvl        4.0    Inside  ...             1.5        36   \n",
       "2916         Lvl        4.0    Inside  ...             1.5        36   \n",
       "2917         Lvl        4.0    Inside  ...             2.0        46   \n",
       "2918         Lvl        4.0    Inside  ...             1.5        14   \n",
       "2919         Lvl        4.0    Inside  ...             2.5        13   \n",
       "\n",
       "     YearsSinceRemodel TotalQual TotalCond OutdoorSpace  HasPool  HasGarage  \\\n",
       "Id                                                                            \n",
       "1461                49      17.0      15.0          260        0          1   \n",
       "1462                52      19.0      15.0          429        0          1   \n",
       "1463                12      18.0      14.0          246        0          1   \n",
       "1464                12      19.0      15.0          396        0          1   \n",
       "1465                18      23.0      14.0          226        0          1   \n",
       "...                ...       ...       ...          ...      ...        ...   \n",
       "2915                36       NaN       NaN            0        0          0   \n",
       "2916                36      16.0      14.0           24        0          1   \n",
       "2917                10      17.0      16.0          474        0          1   \n",
       "2918                14       NaN       NaN          112        0          0   \n",
       "2919                12      20.0      14.0          238        0          1   \n",
       "\n",
       "      HasAlley  LotFrontageAreaRatio  \n",
       "Id                                    \n",
       "1461         0              0.006883  \n",
       "1462         0              0.005677  \n",
       "1463         0              0.005351  \n",
       "1464         0              0.007817  \n",
       "1465         0              0.008591  \n",
       "...        ...                   ...  \n",
       "2915         0              0.010847  \n",
       "2916         0              0.011088  \n",
       "2917         0              0.008000  \n",
       "2918         0              0.005938  \n",
       "2919         0              0.007687  \n",
       "\n",
       "[1459 rows x 81 columns]"
      ]
     },
     "execution_count": 13,
     "metadata": {},
     "output_type": "execute_result"
    }
   ],
   "source": [
    "X_test = pd.read_csv('/kaggle/input/house-prices-advanced-regression-techniques/test.csv', index_col='Id')\n",
    "new_X_test = modify_features(X_test)\n",
    "new_X_test"
   ]
  },
  {
   "cell_type": "markdown",
   "id": "c74964ea",
   "metadata": {
    "papermill": {
     "duration": 0.007219,
     "end_time": "2024-02-27T20:38:42.671116",
     "exception": false,
     "start_time": "2024-02-27T20:38:42.663897",
     "status": "completed"
    },
    "tags": []
   },
   "source": [
    "#### simple RandomForestRegressor "
   ]
  },
  {
   "cell_type": "markdown",
   "id": "2ff71e45",
   "metadata": {
    "papermill": {
     "duration": 0.007512,
     "end_time": "2024-02-27T20:38:42.686239",
     "exception": false,
     "start_time": "2024-02-27T20:38:42.678727",
     "status": "completed"
    },
    "tags": []
   },
   "source": [
    "#### best model before feature engineering"
   ]
  },
  {
   "cell_type": "code",
   "execution_count": 14,
   "id": "fdd5e5a6",
   "metadata": {
    "execution": {
     "iopub.execute_input": "2024-02-27T20:38:42.703500Z",
     "iopub.status.busy": "2024-02-27T20:38:42.703149Z",
     "iopub.status.idle": "2024-02-27T20:38:42.707308Z",
     "shell.execute_reply": "2024-02-27T20:38:42.706357Z"
    },
    "papermill": {
     "duration": 0.015227,
     "end_time": "2024-02-27T20:38:42.709099",
     "exception": false,
     "start_time": "2024-02-27T20:38:42.693872",
     "status": "completed"
    },
    "tags": []
   },
   "outputs": [],
   "source": [
    "#### evaluate the mode;"
   ]
  },
  {
   "cell_type": "code",
   "execution_count": 15,
   "id": "65b08ddf",
   "metadata": {
    "execution": {
     "iopub.execute_input": "2024-02-27T20:38:42.726463Z",
     "iopub.status.busy": "2024-02-27T20:38:42.726086Z",
     "iopub.status.idle": "2024-02-27T20:38:42.767694Z",
     "shell.execute_reply": "2024-02-27T20:38:42.766380Z"
    },
    "papermill": {
     "duration": 0.053051,
     "end_time": "2024-02-27T20:38:42.770181",
     "exception": false,
     "start_time": "2024-02-27T20:38:42.717130",
     "status": "completed"
    },
    "tags": []
   },
   "outputs": [],
   "source": [
    "X_new = modify_features(X)"
   ]
  },
  {
   "cell_type": "code",
   "execution_count": 16,
   "id": "e1cbf53e",
   "metadata": {
    "execution": {
     "iopub.execute_input": "2024-02-27T20:38:42.787790Z",
     "iopub.status.busy": "2024-02-27T20:38:42.787474Z",
     "iopub.status.idle": "2024-02-27T20:38:42.796720Z",
     "shell.execute_reply": "2024-02-27T20:38:42.795553Z"
    },
    "papermill": {
     "duration": 0.020947,
     "end_time": "2024-02-27T20:38:42.799015",
     "exception": false,
     "start_time": "2024-02-27T20:38:42.778068",
     "status": "completed"
    },
    "tags": []
   },
   "outputs": [],
   "source": [
    "numerical_data = X_new.select_dtypes(include=['int64','float64'])\n",
    "categorical_data = X_new.select_dtypes(include='object')\n",
    "# separate numerical and categorical transformers\n",
    "numerical_transformer = Pipeline(steps=[\n",
    "    ('imputer', SimpleImputer(strategy='mean')), \n",
    "    ('scaler', StandardScaler())\n",
    "])\n",
    "\n",
    "categorical_transformer = Pipeline(steps=[\n",
    "    ('imputer', SimpleImputer(strategy='most_frequent')),\n",
    "    ('onehot', OneHotEncoder(handle_unknown='ignore'))\n",
    "])\n",
    "\n",
    "numerical_cols = numerical_data.columns\n",
    "categorical_cols = categorical_data.columns\n",
    "\n",
    "# combining transformers\n",
    "preprocessor = ColumnTransformer(\n",
    "    transformers=[\n",
    "        ('num', numerical_transformer, numerical_cols),\n",
    "        ('cat', categorical_transformer, categorical_cols)\n",
    "])\n",
    "\n",
    "model_temp = XGBRegressor(n_estimators = 500, max_depth = 3, learning_rate = 0.1)\n",
    "pipeline = Pipeline(steps=[('preprocessor', preprocessor),\n",
    "                                 ('model', model_temp)])\n",
    "# pipeline.fit(X_train, y_train)"
   ]
  },
  {
   "cell_type": "code",
   "execution_count": 17,
   "id": "9ab3e27d",
   "metadata": {
    "execution": {
     "iopub.execute_input": "2024-02-27T20:38:42.816443Z",
     "iopub.status.busy": "2024-02-27T20:38:42.816105Z",
     "iopub.status.idle": "2024-02-27T20:38:43.788844Z",
     "shell.execute_reply": "2024-02-27T20:38:43.787641Z"
    },
    "papermill": {
     "duration": 0.984317,
     "end_time": "2024-02-27T20:38:43.791420",
     "exception": false,
     "start_time": "2024-02-27T20:38:42.807103",
     "status": "completed"
    },
    "tags": []
   },
   "outputs": [],
   "source": [
    "pipeline.fit(X_new, y)\n",
    "predictions = pipeline.predict(new_X_test)\n",
    "\n",
    "output = pd.DataFrame({'Id': new_X_test.index,\n",
    "                       'SalePrice': predictions})\n",
    "output.to_csv('submission.csv', index=False)"
   ]
  },
  {
   "cell_type": "markdown",
   "id": "162c1c72",
   "metadata": {
    "papermill": {
     "duration": 0.007686,
     "end_time": "2024-02-27T20:38:43.807436",
     "exception": false,
     "start_time": "2024-02-27T20:38:43.799750",
     "status": "completed"
    },
    "tags": []
   },
   "source": [
    "# improvements to make\n",
    "- intentional imputation (e.g. reading through data labels better to identify NA values)\n",
    "- standardize the features for better analysis and to do PCA"
   ]
  }
 ],
 "metadata": {
  "kaggle": {
   "accelerator": "none",
   "dataSources": [
    {
     "databundleVersionId": 868283,
     "sourceId": 5407,
     "sourceType": "competition"
    }
   ],
   "dockerImageVersionId": 30635,
   "isGpuEnabled": false,
   "isInternetEnabled": true,
   "language": "python",
   "sourceType": "notebook"
  },
  "kernelspec": {
   "display_name": "Python 3",
   "language": "python",
   "name": "python3"
  },
  "language_info": {
   "codemirror_mode": {
    "name": "ipython",
    "version": 3
   },
   "file_extension": ".py",
   "mimetype": "text/x-python",
   "name": "python",
   "nbconvert_exporter": "python",
   "pygments_lexer": "ipython3",
   "version": "3.10.12"
  },
  "papermill": {
   "default_parameters": {},
   "duration": 9.364633,
   "end_time": "2024-02-27T20:38:44.435384",
   "environment_variables": {},
   "exception": null,
   "input_path": "__notebook__.ipynb",
   "output_path": "__notebook__.ipynb",
   "parameters": {},
   "start_time": "2024-02-27T20:38:35.070751",
   "version": "2.4.0"
  }
 },
 "nbformat": 4,
 "nbformat_minor": 5
}
